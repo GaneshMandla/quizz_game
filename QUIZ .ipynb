{
 "cells": [
  {
   "cell_type": "code",
   "execution_count": null,
   "id": "adfc8c20",
   "metadata": {},
   "outputs": [],
   "source": [
    "import cv2\n",
    "import csv\n",
    "from cvzone.HandTrackingModule import HandDetector\n",
    "import cvzone\n",
    "import time\n",
    "\n",
    "cap = cv2.VideoCapture(0)\n",
    "cap.set(3, 1280)\n",
    "cap.set(4, 720)\n",
    "detector = HandDetector(detectionCon=0.8)\n",
    "\n"
   ]
  },
  {
   "cell_type": "code",
   "execution_count": null,
   "id": "3943f76d",
   "metadata": {},
   "outputs": [],
   "source": [
    "class MCQ():\n",
    "    def __init__(self, data):\n",
    "        self.question = data[0]\n",
    "        self.choice1 = data[1]\n",
    "        self.choice2 = data[2]\n",
    "        self.choice3 = data[3]\n",
    "        self.choice4 = data[4]\n",
    "        self.answer = int(data[5])\n",
    "\n",
    "        self.userAns = None\n",
    "\n",
    "    def update(self, cursor, bboxs):\n",
    "        for x, bbox in enumerate(bboxs):\n",
    "            x1, y1, x2, y2 = bbox\n",
    "            if x1 < cursor[0] < x2 and y1 < cursor[1] < y2:\n",
    "                self.userAns = x + 1\n",
    "                cv2.rectangle(img, (x1, y1), (x2, y2), (0, 255, 0), cv2.FILLED)\n",
    "# Import csv file data\n",
    "pathCSV = \"Mcqs.csv\"\n",
    "with open(pathCSV, newline='\\n') as f:\n",
    "    reader = csv.reader(f)\n",
    "    dataAll = list(reader)[1:]\n",
    "\n",
    "# Create Object for each MCQ\n",
    "mcqList = []\n",
    "for q in dataAll:\n",
    "    mcqList.append(MCQ(q))\n",
    "\n",
    "print(\"Total MCQ Objects Created:\", len(mcqList))\n",
    "\n",
    "qNo = 0\n",
    "qTotal = len(dataAll)"
   ]
  },
  {
   "cell_type": "code",
   "execution_count": null,
   "id": "24ada4df",
   "metadata": {},
   "outputs": [],
   "source": [
    "while True:\n",
    "    success, img = cap.read()\n",
    "    img = cv2.flip(img, 1)\n",
    "    hands, img = detector.findHands(img, flipType=False)\n",
    "\n",
    "    if qNo < qTotal:\n",
    "        mcq = mcqList[qNo]\n",
    "\n",
    "        img, bbox = cvzone.putTextRect(img, mcq.question, [100, 100], 2, 2, offset=50, border=5)\n",
    "        img, bbox1 = cvzone.putTextRect(img, mcq.choice1, [100, 250], 2, 2, offset=50, border=5)\n",
    "        img, bbox2 = cvzone.putTextRect(img, mcq.choice2, [400, 250], 2, 2, offset=50, border=5)\n",
    "        img, bbox3 = cvzone.putTextRect(img, mcq.choice3, [100, 400], 2, 2, offset=50, border=5)\n",
    "        img, bbox4 = cvzone.putTextRect(img, mcq.choice4, [400, 400], 2, 2, offset=50, border=5)\n",
    "\n",
    "        if hands:\n",
    "            for hand in hands:\n",
    "                lmList = hand['lmList']\n",
    "                if len(lmList) >= 13:\n",
    "                    cursor = lmList[8][:2]  # Extract the first two values (x, y) from lmList[8]\n",
    "                    length, _ = detector.findDistance(lmList[8][:2], lmList[12][:2])  # Store the distance in a single variable\n",
    "                    print(length)\n",
    "                    if length < 35:\n",
    "                        mcq.update(cursor, [bbox1, bbox2, bbox3, bbox4])\n",
    "                        if mcq.userAns is not None:\n",
    "                            time.sleep(0.8)\n",
    "                            qNo += 1\n",
    "\n",
    "    else:\n",
    "        score = 0\n",
    "        for mcq in mcqList:\n",
    "            if mcq.answer == mcq.userAns:\n",
    "                score += 1\n",
    "        score = round((score / qTotal) * 100, 2)\n",
    "        img, _ = cvzone.putTextRect(img, \"Quiz Completed\", [250, 300], 2, 2, offset=50, border=5)\n",
    "        img, _ = cvzone.putTextRect(img, f'Your Score: {score}%', [700, 300], 2, 2, offset=50, border=5)\n",
    "\n",
    "    # Draw Progress Bar\n",
    "    barValue = 150 + (950 // qTotal) * qNo\n",
    "    cv2.rectangle(img, (150, 600), (barValue, 650), (0, 255, 0), cv2.FILLED)\n",
    "    cv2.rectangle(img, (150, 600), (1100, 650), (255, 0, 255), 5)\n",
    "    img, _ = cvzone.putTextRect(img, f'{round((qNo / qTotal) * 100)}%', [1130, 635], 2, 2, offset=16)\n",
    "\n",
    "    cv2.imshow(\"Img\", img)\n",
    "    if cv2.waitKey(1) & 0xFF == 27:  # Press 'Esc' key to exit the program\n",
    "        break\n",
    "\n",
    "cv2.destroyAllWindows()"
   ]
  },
  {
   "cell_type": "code",
   "execution_count": null,
   "id": "1c972dc1",
   "metadata": {},
   "outputs": [],
   "source": []
  },
  {
   "cell_type": "code",
   "execution_count": null,
   "id": "eda76e5d",
   "metadata": {
    "scrolled": false
   },
   "outputs": [],
   "source": []
  },
  {
   "cell_type": "code",
   "execution_count": null,
   "id": "90c56aa8",
   "metadata": {},
   "outputs": [],
   "source": []
  }
 ],
 "metadata": {
  "kernelspec": {
   "display_name": "Python 3 (ipykernel)",
   "language": "python",
   "name": "python3"
  },
  "language_info": {
   "codemirror_mode": {
    "name": "ipython",
    "version": 3
   },
   "file_extension": ".py",
   "mimetype": "text/x-python",
   "name": "python",
   "nbconvert_exporter": "python",
   "pygments_lexer": "ipython3",
   "version": "3.9.12"
  }
 },
 "nbformat": 4,
 "nbformat_minor": 5
}
